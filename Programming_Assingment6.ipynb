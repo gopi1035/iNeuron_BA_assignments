{
 "cells": [
  {
   "cell_type": "markdown",
   "id": "5deb610d",
   "metadata": {},
   "source": [
    "1. ***Write a Python Program to Display Fibonacci Sequence Using Recursion?***"
   ]
  },
  {
   "cell_type": "code",
   "execution_count": 47,
   "id": "ee28180f",
   "metadata": {},
   "outputs": [
    {
     "name": "stdout",
     "output_type": "stream",
     "text": [
      "0,1,1,2,3,5,8,13,21,34,"
     ]
    }
   ],
   "source": [
    "def fibonacci(num):\n",
    "    a = 0\n",
    "    b = 1\n",
    "    for i in range(num):\n",
    "        print(a, end = \",\")\n",
    "        a , b = b, a+b\n",
    "fibonacci(10)        "
   ]
  },
  {
   "cell_type": "markdown",
   "id": "2ecfe0b4",
   "metadata": {},
   "source": [
    "2. ***Write a Python Program to Find Factorial of Number Using Recursion?***"
   ]
  },
  {
   "cell_type": "code",
   "execution_count": 17,
   "id": "3db7162d",
   "metadata": {},
   "outputs": [],
   "source": [
    "def fact_recursion(num):\n",
    "    if num == 1:\n",
    "        return 1\n",
    "    else:\n",
    "        return num * fact_recursion(num-1)"
   ]
  },
  {
   "cell_type": "code",
   "execution_count": 18,
   "id": "4144ac0f",
   "metadata": {},
   "outputs": [
    {
     "data": {
      "text/plain": [
       "3628800"
      ]
     },
     "execution_count": 18,
     "metadata": {},
     "output_type": "execute_result"
    }
   ],
   "source": [
    "fact_recursion(10)"
   ]
  },
  {
   "cell_type": "markdown",
   "id": "8d129fde",
   "metadata": {},
   "source": [
    "3. ***Write a Python Program to calculate your Body Mass Index?***"
   ]
  },
  {
   "cell_type": "code",
   "execution_count": 30,
   "id": "f82a66b1",
   "metadata": {},
   "outputs": [],
   "source": [
    "def bmi(height, weight):\n",
    "    return round(weight / (height/100)**2,2)"
   ]
  },
  {
   "cell_type": "code",
   "execution_count": 31,
   "id": "6e4f98d0",
   "metadata": {},
   "outputs": [
    {
     "data": {
      "text/plain": [
       "96.45"
      ]
     },
     "execution_count": 31,
     "metadata": {},
     "output_type": "execute_result"
    }
   ],
   "source": [
    "bmi(72,50)"
   ]
  },
  {
   "cell_type": "markdown",
   "id": "eda742e2",
   "metadata": {},
   "source": [
    "4. ***Write a Python Program to calculate the natural logarithm of any number?***"
   ]
  },
  {
   "cell_type": "code",
   "execution_count": 37,
   "id": "6d05265d",
   "metadata": {},
   "outputs": [],
   "source": [
    "def n_log(num):\n",
    "    import math\n",
    "    print(math.log(num))"
   ]
  },
  {
   "cell_type": "code",
   "execution_count": 38,
   "id": "7c694deb",
   "metadata": {},
   "outputs": [
    {
     "name": "stdout",
     "output_type": "stream",
     "text": [
      "4.605170185988092\n"
     ]
    }
   ],
   "source": [
    "n_log(100)"
   ]
  },
  {
   "cell_type": "markdown",
   "id": "f1cf7cd4",
   "metadata": {},
   "source": [
    "5. ***Write a Python Program for cube sum of first n natural numbers?***"
   ]
  },
  {
   "cell_type": "code",
   "execution_count": 39,
   "id": "3d610634",
   "metadata": {},
   "outputs": [],
   "source": [
    "def cube_sum(n):\n",
    "    return (n**2*(n + 1)**2)/4"
   ]
  },
  {
   "cell_type": "code",
   "execution_count": 44,
   "id": "7649fa9a",
   "metadata": {},
   "outputs": [
    {
     "data": {
      "text/plain": [
       "3025.0"
      ]
     },
     "execution_count": 44,
     "metadata": {},
     "output_type": "execute_result"
    }
   ],
   "source": [
    "cube_sum(10)"
   ]
  },
  {
   "cell_type": "code",
   "execution_count": null,
   "id": "3d454dfb",
   "metadata": {},
   "outputs": [],
   "source": []
  }
 ],
 "metadata": {
  "kernelspec": {
   "display_name": "Python 3",
   "language": "python",
   "name": "python3"
  },
  "language_info": {
   "codemirror_mode": {
    "name": "ipython",
    "version": 3
   },
   "file_extension": ".py",
   "mimetype": "text/x-python",
   "name": "python",
   "nbconvert_exporter": "python",
   "pygments_lexer": "ipython3",
   "version": "3.8.8"
  }
 },
 "nbformat": 4,
 "nbformat_minor": 5
}
